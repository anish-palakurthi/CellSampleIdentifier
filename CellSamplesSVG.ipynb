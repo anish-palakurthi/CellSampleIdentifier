{
 "cells": [
  {
   "cell_type": "markdown",
   "id": "9b44bfb0",
   "metadata": {},
   "source": [
    "Description Here"
   ]
  },
  {
   "cell_type": "code",
   "execution_count": 1,
   "id": "8282d587",
   "metadata": {},
   "outputs": [],
   "source": [
    "import pandas as pd #creates dataframe structure (similar to an excel sheet)\n",
    "import numpy as np #multi-dimensional array and matrix data structures, mathematical operations on arrays such as trigonometric, statistical, and algebraic routines.\n",
    "import matplotlib.pyplot as plt #plotting package"
   ]
  },
  {
   "cell_type": "markdown",
   "id": "ab3af4a3",
   "metadata": {},
   "source": [
    "Original Author - UCI Machine Learning Repository (Asuncion and Newman, 2007)[http://mlearn.ics.uci.edu/MLRepositor.html] \n",
    "\n",
    "Public Source Data - https://s3-api.us-geo.objectstorage.softlayer.net/cf-courses-data/CognitiveClass/ML0101ENv3/labs/cell_samples.csv\n",
    "\n",
    "Each record contains the values of a cell's characteristics. The fields in each record:\n",
    "\n",
    "|Field name|Description|\n",
    "|---|---|\n",
    "|ID|Identifier|\n",
    "|Clump|Clump Thickness|\n",
    "|UnifSize|Uniformity of cell size|\n",
    "|UnifShape|Uniformity of cell shape|\n",
    "|MargAdh|Marginal adhesion|\n",
    "|SingEpiSize|Single epithelial cell size|\n",
    "|BareNuc|Bare nuclei|\n",
    "|BlandChrom|Bland chromatin|\n",
    "|NormNucl|Normal nucleoli|\n",
    "|Mit|Mitoses|\n",
    "|Class|Benign(2) or malignant(4)|\n",
    "\n",
    "We're using a dataset with 10 predictors (fields/columns) in each record and 700 records (rows) total.\n",
    "\n"
   ]
  },
  {
   "cell_type": "code",
   "execution_count": 2,
   "id": "8ce90b49",
   "metadata": {},
   "outputs": [
    {
     "data": {
      "text/plain": [
       "2    458\n",
       "4    241\n",
       "Name: Class, dtype: int64"
      ]
     },
     "execution_count": 2,
     "metadata": {},
     "output_type": "execute_result"
    }
   ],
   "source": [
    "df = pd.read_csv('cell_samples.csv') #reads csv file into pandas dataframe\n",
    "df.tail()\n",
    "df.shape #699 rows, 11 dimensions\n",
    "df.size #7689 bytes of data\n",
    "df.count() #quantity of values of each column (699 each)\n",
    "df['Class'].value_counts() #458 of 2(benign) and 241 of 4(malignant)\n",
    "\n",
    "\n"
   ]
  },
  {
   "cell_type": "code",
   "execution_count": 3,
   "id": "4d47bd60",
   "metadata": {},
   "outputs": [
    {
     "data": {
      "text/plain": [
       "<AxesSubplot:xlabel='Clump', ylabel='UnifSize'>"
      ]
     },
     "execution_count": 3,
     "metadata": {},
     "output_type": "execute_result"
    },
    {
     "data": {
      "image/png": "[encoded data removed]",
      "text/plain": [
       "<Figure size 432x288 with 1 Axes>"
      ]
     },
     "metadata": {
      "needs_background": "light"
     },
     "output_type": "display_data"
    }
   ],
   "source": [
    "malignant_df = df[df['Class']==4][0:200]\n",
    "benign_df = df[df['Class']==2][0:200]\n",
    "\n",
    "#help(benign_df.plot()) - tells us possible usage of the statement\n",
    "\n",
    "axes = benign_df.plot(kind='scatter',x='Clump',y='UnifSize', color= 'green', label='Benign')\n",
    "malignant_df.plot(kind='scatter',x='Clump',y='UnifSize', color= 'red', label='Malignant', ax=axes)\n"
   ]
  },
  {
   "cell_type": "code",
   "execution_count": 4,
   "id": "2a007235",
   "metadata": {},
   "outputs": [
    {
     "data": {
      "text/plain": [
       "ID             int64\n",
       "Clump          int64\n",
       "UnifSize       int64\n",
       "UnifShape      int64\n",
       "MargAdh        int64\n",
       "SingEpiSize    int64\n",
       "BareNuc        int64\n",
       "BlandChrom     int64\n",
       "NormNucl       int64\n",
       "Mit            int64\n",
       "Class          int64\n",
       "dtype: object"
      ]
     },
     "execution_count": 4,
     "metadata": {},
     "output_type": "execute_result"
    }
   ],
   "source": [
    "#removing unwanted dimensions\n",
    "df.dtypes #tells us that BareNuc is an object so cannot be factored into our modeling and needs to be removed or replaced\n",
    "\n",
    "df = df[pd.to_numeric(df['BareNuc'], errors='coerce').notnull()]#converts all nonnull records to numeric values\n",
    "df['BareNuc'] = df['BareNuc'].astype('int') #assures that all BareNuc records are ints and not objects\n",
    "df.dtypes #returns our data types"
   ]
  },
  {
   "cell_type": "code",
   "execution_count": 5,
   "id": "76c4ba52",
   "metadata": {},
   "outputs": [
    {
     "data": {
      "text/plain": [
       "array([2, 2, 2, 2, 2])"
      ]
     },
     "execution_count": 5,
     "metadata": {},
     "output_type": "execute_result"
    }
   ],
   "source": [
    "#SORTING DATA\n",
    "\n",
    "df.columns\n",
    "#returns all columns: ['ID', 'Clump', 'UnifSize', 'UnifShape', 'MargAdh', 'SingEpiSize',\n",
    "#'BareNuc', 'BlandChrom', 'NormNucl', 'Mit', 'Class']\n",
    "\n",
    "\n",
    "feature_df = df[['Clump', 'UnifSize', 'UnifShape', 'MargAdh', 'SingEpiSize', \n",
    "       'BareNuc', 'BlandChrom', 'NormNucl', 'Mit']]\n",
    "#removed fields ID (nonInformative) and Class(prediction not predictor)\n",
    "\n",
    "\n",
    "X = np.asarray(feature_df)\n",
    "#changes dataframe to numpy array to be fed into our training and testing methods. \n",
    "#X denotes indp. variables (predictors)\n",
    "\n",
    "\n",
    "y = np.asarray(df['Class'])\n",
    "#y denotes dependent variables (predictions)\n",
    "\n",
    "\n",
    "X[0:5]\n",
    "#values now are stores as mutidimensional array (2D), aka a matrix\n",
    "\n",
    "y[0:5]\n",
    "#saved predictions/dependent answers"
   ]
  },
  {
   "cell_type": "code",
   "execution_count": 6,
   "id": "31f3ca6a",
   "metadata": {},
   "outputs": [
    {
     "data": {
      "text/plain": [
       "(137,)"
      ]
     },
     "execution_count": 6,
     "metadata": {},
     "output_type": "execute_result"
    }
   ],
   "source": [
    "#DIVIDING DATA INTO TEST AND TRAIN\n",
    "'''\n",
    "80% train, 20% test\n",
    "Train(X,y) ##X is a 2D array and y is a 1D\n",
    "Test(X,y)\n",
    "'''\n",
    "#necessary import\n",
    "from sklearn.model_selection import train_test_split\n",
    "\n",
    "\n",
    "#splits data for us into specified proportions and selects data randomly for each category\n",
    "#returns four arrays for us as semantically named\n",
    "X_train, X_test, y_train, y_test = train_test_split(X,y, test_size = 0.2, random_state = 4)\n",
    "\n",
    "X_train.shape #546 x 9\n",
    "y_train.shape #546 x 1\n",
    "\n",
    "X_test.shape #137 x 9\n",
    "y_test.shape #137 x 1\n",
    "\n",
    "\n",
    "\n",
    "\n"
   ]
  },
  {
   "cell_type": "code",
   "execution_count": 7,
   "id": "a879a09c",
   "metadata": {},
   "outputs": [],
   "source": [
    "#MODELING SVM \n",
    "\n",
    "from sklearn import svm\n",
    "\n",
    "classifier = svm.SVC(kernel='linear', gamma = 'auto', C=2) #linear, polynomial, radial basis function(default), sigmoid, C is (2 units)penalty on incorrect data points\n",
    "classifier.fit(X_train, y_train) #model fits itself to data\n",
    "\n",
    "y_predict = classifier.predict(X_test) #predictions based off of ML model\n",
    "\n",
    "\n",
    "\n"
   ]
  },
  {
   "cell_type": "code",
   "execution_count": 13,
   "id": "2d617186",
   "metadata": {
    "scrolled": true
   },
   "outputs": [
    {
     "name": "stdout",
     "output_type": "stream",
     "text": [
      "              precision    recall  f1-score   support\n",
      "\n",
      "           2       1.00      0.94      0.97        90\n",
      "           4       0.90      1.00      0.95        47\n",
      "\n",
      "    accuracy                           0.96       137\n",
      "   macro avg       0.95      0.97      0.96       137\n",
      "weighted avg       0.97      0.96      0.96       137\n",
      "\n"
     ]
    }
   ],
   "source": [
    "#EVALUATE\n",
    "\n",
    "from sklearn.metrics import classification_report\n",
    "\n",
    "print(classification_report(y_test,y_predict)) #provides accuracy\n",
    "\n",
    "#precision = ratio of true predictions/true + false predictions\n",
    "\n",
    "#recall = out of all predictions, how many have been accurately predicted by the model\n",
    "\n",
    "#f1-score = 2*((precision*recall)/(precision+recall))\n",
    "\n",
    "#support = how many cases of each are predicted\n",
    "\n"
   ]
  },
  {
   "cell_type": "code",
   "execution_count": null,
   "id": "25742e81",
   "metadata": {},
   "outputs": [],
   "source": []
  }
 ],
 "metadata": {
  "kernelspec": {
   "display_name": "Python 3",
   "language": "python",
   "name": "python3"
  },
  "language_info": {
   "codemirror_mode": {
    "name": "ipython",
    "version": 3
   },
   "file_extension": ".py",
   "mimetype": "text/x-python",
   "name": "python",
   "nbconvert_exporter": "python",
   "pygments_lexer": "ipython3",
   "version": "3.8.8"
  }
 },
 "nbformat": 4,
 "nbformat_minor": 5
}
